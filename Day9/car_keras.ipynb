{
  "cells": [
    {
      "cell_type": "code",
      "execution_count": null,
      "metadata": {
        "id": "NTwNZcxOOU6W"
      },
      "outputs": [],
      "source": [
        "from pathlib import Path\n",
        "import cv2\n",
        "import matplotlib.pyplot as plt\n",
        "import numpy as np\n",
        "import scipy.io as sio\n",
        "import tensorflow as tf\n",
        "from tensorflow.keras import layers, models\n",
        "from tensorflow.keras.applications import ResNet50"
      ]
    },
    {
      "cell_type": "markdown",
      "source": [
        "## Preprocess data"
      ],
      "metadata": {
        "collapsed": false,
        "id": "CxcepA_UIRt2"
      }
    },
    {
      "cell_type": "markdown",
      "source": [
        "Download the full dataset from [here](https://www.kaggle.com/datasets/hassiahk/stanford-cars-dataset-full) and place it in your Google Drive MyDrive main directory."
      ],
      "metadata": {
        "collapsed": false,
        "id": "LLItRDjaIRt2"
      }
    },
    {
      "cell_type": "code",
      "source": [
        "from google.colab import drive\n",
        "drive.mount('/content/drive')"
      ],
      "metadata": {
        "id": "x9fZtZkQx8Db"
      },
      "execution_count": null,
      "outputs": []
    },
    {
      "cell_type": "markdown",
      "source": [
        "If you are on Colab, download `cars_annos.mat` from the course GitHub and upload it to your Google Drive MyDrive folder."
      ],
      "metadata": {
        "collapsed": false,
        "id": "YYYReUCEIRt3"
      }
    },
    {
      "cell_type": "markdown",
      "source": [
        "# **Now, you have to enure that 'car_ims' is avaialable in your MyDrive folder by creating a shortcut from the shared folder**"
      ],
      "metadata": {
        "id": "nBhuBurZ7Tct"
      }
    },
    {
      "cell_type": "code",
      "execution_count": null,
      "metadata": {
        "id": "QC3espG8Ddmx"
      },
      "outputs": [],
      "source": [
        "# Load annotations\n",
        "\n",
        "data_path = Path('./drive/MyDrive')\n",
        "margin = 16\n",
        "im_path = data_path / 'car_ims'\n",
        "im_path.mkdir(exist_ok=True)\n",
        "\n",
        "mat = sio.loadmat(data_path / 'cars_annos.mat')\n",
        "\n",
        "\n",
        "# Class names\n",
        "class_names = [\n",
        "    name[0].replace('/', '_')\n",
        "    for name in mat['class_names'][0]\n",
        "]\n",
        "num_classes = len(class_names)\n",
        "print(f\"{num_classes} class names loaded\")  # There should be 196 class names\n"
      ]
    },
    {
      "cell_type": "markdown",
      "source": [
        "## Load data"
      ],
      "metadata": {
        "collapsed": false,
        "id": "xG8SWDdfIRt4"
      }
    },
    {
      "cell_type": "code",
      "execution_count": null,
      "outputs": [],
      "source": [
        "# Create datasets\n",
        "# Change the parameters as you wish\n",
        "\n",
        "train_ds, val_ds = tf.keras.utils.image_dataset_from_directory(\n",
        "    str(im_path),\n",
        "    validation_split=0.1,\n",
        "    image_size=(256, 256),\n",
        "    batch_size=64,\n",
        "    label_mode='categorical',\n",
        "    subset='both',\n",
        "    seed=42,\n",
        ")\n",
        "batch = next(train_ds.as_numpy_iterator())\n",
        "input_shape = batch[0][0].shape\n",
        "\n",
        "# `train_ds` and `val_ds` contain both X and Y values\n",
        "print(train_ds, val_ds)\n",
        "print(f\"Input shape: {input_shape}\")\n"
      ],
      "metadata": {
        "id": "OHWXLOMjIRt5"
      }
    },
    {
      "cell_type": "code",
      "execution_count": null,
      "outputs": [],
      "source": [
        "# Visualize the dataset\n",
        "\n",
        "plt.figure(figsize=(16, 16))\n",
        "for i in range(16):\n",
        "    plt.subplot(4, 4, i + 1)\n",
        "    plt.imshow(batch[0][i].astype(int))\n",
        "    plt.xticks([])\n",
        "    plt.yticks([])\n"
      ],
      "metadata": {
        "id": "LjzAOn8GIRt6"
      }
    },
    {
      "cell_type": "markdown",
      "source": [
        "## Build model"
      ],
      "metadata": {
        "collapsed": false,
        "id": "VD0iVKgjIRt6"
      }
    },
    {
      "cell_type": "code",
      "execution_count": null,
      "metadata": {
        "id": "H8mAz2MuOU6k"
      },
      "outputs": [],
      "source": [
        "# Build your model. Consider what techniques / level of complexity would be useful for a high-difficulty task!\n",
        "# TODO\n"
      ]
    }
  ],
  "metadata": {
    "colab": {
      "provenance": []
    },
    "kernelspec": {
      "display_name": "Python 3",
      "name": "python3"
    },
    "language_info": {
      "codemirror_mode": {
        "name": "ipython",
        "version": 3
      },
      "file_extension": ".py",
      "mimetype": "text/x-python",
      "name": "python",
      "nbconvert_exporter": "python",
      "pygments_lexer": "ipython3",
      "version": "3.7.0"
    },
    "latex_envs": {
      "LaTeX_envs_menu_present": true,
      "autoclose": true,
      "autocomplete": true,
      "bibliofile": "biblio.bib",
      "cite_by": "apalike",
      "current_citInitial": 1,
      "eqLabelWithNumbers": true,
      "eqNumInitial": 1,
      "hotkeys": {
        "equation": "Ctrl-E",
        "itemize": "Ctrl-I"
      },
      "labels_anchors": false,
      "latex_user_defs": false,
      "report_style_numbering": false,
      "user_envs_cfg": false
    }
  },
  "nbformat": 4,
  "nbformat_minor": 0
}